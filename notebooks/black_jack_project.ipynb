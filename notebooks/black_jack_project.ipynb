{
 "cells": [
  {
   "cell_type": "markdown",
   "metadata": {},
   "source": [
    "BLACK JACK SECOND PROYECT"
   ]
  },
  {
   "cell_type": "markdown",
   "metadata": {},
   "source": [
    "- IMPORT"
   ]
  },
  {
   "cell_type": "code",
   "execution_count": 31,
   "metadata": {},
   "outputs": [],
   "source": [
    "import random\n",
    "from scripts import scripts_blackjack as sbj"
   ]
  },
  {
   "cell_type": "markdown",
   "metadata": {},
   "source": [
    "- CLASES AND VARIABLES"
   ]
  },
  {
   "cell_type": "code",
   "execution_count": 32,
   "metadata": {},
   "outputs": [],
   "source": [
    "suits = [\"hearts\", \"clubs\", \"diamonds\", \"spades\"]\n",
    "numbers = [\"one\", \"two\", \"three\", \"four\", \"five\", \"six\", \"seven\", \"eight\", \"nine\", \"ten\", \"jack\", \"queen\", \"king\"]\n",
    "value_dic = {\"one\": 1, \"two\": 2, \"three\": 3, \"four\": 4, \"five\": 5, \"six\": 6, \"seven\": 7, \"eight\": 8, \"nine\": 9, \"ten\": 10, \"jack\": 10, \"queen\": 10, \"king\": 10}"
   ]
  },
  {
   "cell_type": "code",
   "execution_count": 33,
   "metadata": {},
   "outputs": [],
   "source": [
    "class card:\n",
    "    def __init__(self, number, suit):\n",
    "        self.number = number\n",
    "        self.suit = suit\n",
    "        self.value = value_dic[self.number]\n",
    "\n",
    "    def __str__(self):\n",
    "        return f\"{self.number} of {self.suit}\".title()"
   ]
  },
  {
   "cell_type": "code",
   "execution_count": 34,
   "metadata": {},
   "outputs": [],
   "source": [
    "class deck:\n",
    "    def __init__(self):\n",
    "        self.deck_cards = []\n",
    "        for card_number in numbers:\n",
    "            for suit in suits:\n",
    "                self.deck_cards.append(card(card_number, suit))\n",
    "\n",
    "    def __str__(self):\n",
    "        return f\"Deck of {len(self.deck_cards)} cards\""
   ]
  },
  {
   "cell_type": "code",
   "execution_count": 35,
   "metadata": {},
   "outputs": [],
   "source": [
    "class player:\n",
    "    def __init__(self, name):\n",
    "        self.name = name\n",
    "        self.hand = []\n",
    "    def __str__(self):\n",
    "        return f\"Player name: {self.name}\""
   ]
  },
  {
   "cell_type": "code",
   "execution_count": 36,
   "metadata": {},
   "outputs": [],
   "source": [
    "my_deck = deck()"
   ]
  },
  {
   "cell_type": "code",
   "execution_count": 37,
   "metadata": {},
   "outputs": [],
   "source": [
    "# suffle the deck\n",
    "random.shuffle(my_deck.deck_cards)"
   ]
  },
  {
   "cell_type": "markdown",
   "metadata": {},
   "source": [
    "- ALGORITHM LOGIC"
   ]
  },
  {
   "cell_type": "code",
   "execution_count": 38,
   "metadata": {},
   "outputs": [],
   "source": [
    "name_player = input(\"Select an Alias for the game: \")\n",
    "player_1 = player(name_player)\n",
    "croupier_player = player(\"Croupier\")"
   ]
  },
  {
   "cell_type": "code",
   "execution_count": 40,
   "metadata": {},
   "outputs": [
    {
     "name": "stdout",
     "output_type": "stream",
     "text": [
      "\n",
      "\n",
      "Player Hand:\n",
      "Player Count: 0\n",
      "\n",
      "Croupier Hand:\n",
      "Croupier Count: 0\n",
      "\n",
      "\n",
      "\n",
      "\n",
      "Player Hand:\n",
      "Four Of Diamonds\n",
      "Player Count: 4\n",
      "\n",
      "Croupier Hand:\n",
      "Ten Of Hearts\n",
      "Croupier Count: 10\n",
      "\n",
      "\n",
      "\n",
      "\n",
      "Player Hand:\n",
      "Four Of Diamonds\n",
      "One Of Hearts\n",
      "Player Count: 15\n",
      "\n",
      "Croupier Hand:\n",
      "Ten Of Hearts\n",
      "Four Of Spades\n",
      "Croupier Count: 14\n",
      "\n",
      "\n",
      "--- YOU LOSE! ---\n",
      "\n",
      "\n",
      "Player Hand:\n",
      "Four Of Diamonds\n",
      "One Of Hearts\n",
      "Eight Of Diamonds\n",
      "Player Count: 23\n",
      "\n",
      "Croupier Hand:\n",
      "Ten Of Hearts\n",
      "Four Of Spades\n",
      "Two Of Hearts\n",
      "Croupier Count: 16\n",
      "\n",
      "\n"
     ]
    }
   ],
   "source": [
    "count_croupier = 0\n",
    "count_player = 0\n",
    "\n",
    "while True:\n",
    "\n",
    "    # Board\n",
    "    sbj.results(player_1, count_player, croupier_player, count_croupier)\n",
    "\n",
    "    want_card = input(\"Do you want a card? \\n(Yes: y or No: n)\")\n",
    "    if want_card == \"y\":\n",
    "\n",
    "        # Player card\n",
    "        actual_card = my_deck.deck_cards.pop(-1)\n",
    "        player_1.hand.append(actual_card)\n",
    "        count_player += actual_card.value\n",
    "\n",
    "        # Check one\\eleven values Player\n",
    "        if sbj.card_one_eleven(player_1) and count_player + 10 <= 21:\n",
    "            count_player += 10\n",
    "\n",
    "        # Croupier card\n",
    "        if count_croupier < 17:\n",
    "            croupier_card = my_deck.deck_cards.pop(-1)\n",
    "            croupier_player.hand.append(croupier_card)\n",
    "            count_croupier += croupier_card.value\n",
    "        \n",
    "        # Check one\\eleven values croupier\n",
    "        if sbj.card_one_eleven(croupier_player) and count_croupier + 10 <= 21:\n",
    "            count_croupier += 10\n",
    "        \n",
    "\n",
    "        # Win conditions\n",
    "        if count_croupier > 21 and count_player > 21:\n",
    "            print(\"--- NO WINNER! ---\")\n",
    "            sbj.results(player_1, count_player, croupier_player, count_croupier)\n",
    "            break\n",
    "\n",
    "        if count_croupier > 21:\n",
    "            print(\"--- YOU WIN! ---\")\n",
    "            sbj.results(player_1, count_player, croupier_player, count_croupier)\n",
    "            break\n",
    "\n",
    "        if count_player > 21:\n",
    "            print(\"--- YOU LOSE! ---\")\n",
    "            sbj.results(player_1, count_player, croupier_player, count_croupier)\n",
    "            break\n",
    "\n",
    "        if count_player == 21:\n",
    "            print(\"--- YOU HAVE 21!, YOU WIN! ---\")\n",
    "            sbj.results(player_1, count_player, croupier_player, count_croupier)\n",
    "            break\n",
    "        \n",
    "        if count_croupier == 21:\n",
    "            print(\"--- CROUPIER HAS 21!!, YOU LOSE! ---\")\n",
    "            sbj.results(player_1, count_player, croupier_player, count_croupier)\n",
    "            break\n",
    "        \n",
    "\n",
    "    else:\n",
    "        if count_croupier > count_player:\n",
    "            print(\"--- YOU LOSE! ---\")\n",
    "            sbj.results(player_1, count_player, croupier_player, count_croupier)\n",
    "            break\n",
    "\n",
    "        elif count_croupier < count_player and count_croupier < 17:\n",
    "            while count_croupier < 17:\n",
    "                croupier_card = my_deck.deck_cards.pop(-1)\n",
    "                croupier_player.hand.append(croupier_card)\n",
    "                count_croupier += croupier_card.value\n",
    "\n",
    "            if count_croupier < count_player:\n",
    "                print(\"--- YOU WIN! ---\")\n",
    "                sbj.results(player_1, count_player, croupier_player, count_croupier)\n",
    "                break\n",
    "\n",
    "            if count_croupier > count_player:\n",
    "                print(\"--- YOU LOSE! ---\")\n",
    "                sbj.results(player_1, count_player, croupier_player, count_croupier)\n",
    "                break\n",
    "        \n",
    "        elif count_croupier == count_player:\n",
    "            print(\"--- IT IS A TIE! ---\")\n",
    "            sbj.results(player_1, count_player, croupier_player, count_croupier)\n",
    "            break"
   ]
  }
 ],
 "metadata": {
  "kernelspec": {
   "display_name": "base",
   "language": "python",
   "name": "python3"
  },
  "language_info": {
   "codemirror_mode": {
    "name": "ipython",
    "version": 3
   },
   "file_extension": ".py",
   "mimetype": "text/x-python",
   "name": "python",
   "nbconvert_exporter": "python",
   "pygments_lexer": "ipython3",
   "version": "3.11.7"
  }
 },
 "nbformat": 4,
 "nbformat_minor": 2
}
